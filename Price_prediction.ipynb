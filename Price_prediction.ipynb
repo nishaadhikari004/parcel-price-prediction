{
  "nbformat": 4,
  "nbformat_minor": 0,
  "metadata": {
    "colab": {
      "provenance": []
    },
    "kernelspec": {
      "name": "python3",
      "display_name": "Python 3"
    },
    "language_info": {
      "name": "python"
    }
  },
  "cells": [
    {
      "cell_type": "code",
      "execution_count": null,
      "metadata": {
        "id": "mK9s-9ysce5O"
      },
      "outputs": [],
      "source": [
        "import ipywidgets as widgets\n",
        "from IPython.display import display, clear_output\n",
        "import pickle\n",
        "import pandas as pd\n",
        "import numpy as np\n",
        "\n",
        "# Load the trained model\n",
        "try:\n",
        "    with open('rf_model.pkl', 'rb') as file:\n",
        "        model = pickle.load(file)\n",
        "except FileNotFoundError:\n",
        "    print(\"Error: rf_model.pkl not found. Please upload the model file.\")\n",
        "    model = None\n",
        "\n",
        "# Input fields for 13 parameters\n",
        "param_names = ['Paved', 'D_Hotel', 'D_worship', 'D_busstati', 'planning', 'Slope',\n",
        "               'D_River', 'D_localGov', 'D_Otheroff', 'Max_Width', 'Slum', 'D_pri',\n",
        "               'D_gov']\n",
        "param_widgets = [widgets.FloatText(description=name) for name in param_names]\n",
        "\n",
        "# Button to trigger prediction\n",
        "predict_button = widgets.Button(description=\"Predict Price\")\n",
        "\n",
        "# Output area for displaying the prediction\n",
        "output_widget = widgets.Output()\n",
        "\n",
        "def predict_price(b):\n",
        "    with output_widget:\n",
        "        clear_output()\n",
        "        if model:\n",
        "            try:\n",
        "                input_data = np.array([widget.value for widget in param_widgets]).reshape(1, -1)\n",
        "                prediction = model.predict(input_data)\n",
        "                print(f\"Predicted Price: {prediction[0]}\")\n",
        "            except ValueError:\n",
        "                print(\"Invalid Input. Please enter numerical values for all parameters.\")\n",
        "        else:\n",
        "            print(\"Model not loaded. Please upload the rf_model.pkl file.\")\n",
        "\n",
        "predict_button.on_click(predict_price)\n",
        "\n",
        "# Display the input fields, button, and output area\n",
        "display(*param_widgets, predict_button, output_widget)\n"
      ]
    }
  ]
}